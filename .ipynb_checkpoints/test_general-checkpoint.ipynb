{
 "cells": [
  {
   "cell_type": "code",
   "execution_count": 2,
   "id": "02190a4b-ee33-4879-b3a9-cd2d6ab3d297",
   "metadata": {},
   "outputs": [
    {
     "name": "stdout",
     "output_type": "stream",
     "text": [
      "hello, world!\n"
     ]
    }
   ],
   "source": [
    "print(\"hello, world!\")"
   ]
  },
  {
   "cell_type": "code",
   "execution_count": 3,
   "id": "23abdeb3-e656-41ef-9afe-28f1ee9ce86b",
   "metadata": {},
   "outputs": [],
   "source": [
    "import random\n",
    "\n",
    "num = random.randint(1,10)"
   ]
  },
  {
   "cell_type": "code",
   "execution_count": 4,
   "id": "b3b8047d-47d8-42d7-aedd-f08a511e3ddb",
   "metadata": {},
   "outputs": [
    {
     "data": {
      "text/plain": [
       "6"
      ]
     },
     "execution_count": 4,
     "metadata": {},
     "output_type": "execute_result"
    }
   ],
   "source": [
    "num"
   ]
  },
  {
   "cell_type": "code",
   "execution_count": 5,
   "id": "4afb36c4-0f26-40fc-b4a7-bf8ebc3c5586",
   "metadata": {},
   "outputs": [
    {
     "name": "stdout",
     "output_type": "stream",
     "text": [
      " Il volume nell'unit… C non ha etichetta.\n",
      " Numero di serie del volume: 3875-01FB\n",
      "\n",
      " Directory di C:\\Users\\giuli\\PycharmProjects\\class-bootcamp-jupyter\n",
      "\n",
      "07/02/2025  11:53    <DIR>          .\n",
      "07/02/2025  10:57    <DIR>          ..\n",
      "07/02/2025  11:24    <DIR>          .env\n",
      "07/02/2025  11:08    <DIR>          .idea\n",
      "07/02/2025  11:30    <DIR>          .ipynb_checkpoints\n",
      "07/02/2025  11:53               997 Untitled.ipynb\n",
      "               1 File            997 byte\n",
      "               5 Directory  389.954.805.760 byte disponibili\n"
     ]
    }
   ],
   "source": [
    "!dir"
   ]
  },
  {
   "cell_type": "code",
   "execution_count": 6,
   "id": "e7b0f7ed-a8af-42d3-9a1d-45e8d1cda4c9",
   "metadata": {},
   "outputs": [],
   "source": [
    "obj = range(10)"
   ]
  },
  {
   "cell_type": "code",
   "execution_count": 7,
   "id": "f51ce615-fa6e-4ff3-98ec-c108d1ef5468",
   "metadata": {},
   "outputs": [
    {
     "name": "stdout",
     "output_type": "stream",
     "text": [
      "620 ns ± 102 ns per loop (mean ± std. dev. of 7 runs, 1,000,000 loops each)\n"
     ]
    }
   ],
   "source": [
    "%timeit [num for num in obj]"
   ]
  },
  {
   "cell_type": "code",
   "execution_count": 15,
   "id": "254f53f4-76ba-49f5-a5c7-a678e046cb77",
   "metadata": {},
   "outputs": [
    {
     "name": "stdout",
     "output_type": "stream",
     "text": [
      "399 ns ± 19.4 ns per loop (mean ± std. dev. of 7 runs, 1,000,000 loops each)\n"
     ]
    }
   ],
   "source": [
    "%%timeit \n",
    "\n",
    "for num in obj:\n",
    "    num"
   ]
  },
  {
   "cell_type": "code",
   "execution_count": null,
   "id": "07df88be-201d-4388-9ea7-8444600e2c0e",
   "metadata": {},
   "outputs": [],
   "source": []
  }
 ],
 "metadata": {
  "kernelspec": {
   "display_name": "Python 3 (ipykernel)",
   "language": "python",
   "name": "python3"
  },
  "language_info": {
   "codemirror_mode": {
    "name": "ipython",
    "version": 3
   },
   "file_extension": ".py",
   "mimetype": "text/x-python",
   "name": "python",
   "nbconvert_exporter": "python",
   "pygments_lexer": "ipython3",
   "version": "3.13.1"
  }
 },
 "nbformat": 4,
 "nbformat_minor": 5
}
